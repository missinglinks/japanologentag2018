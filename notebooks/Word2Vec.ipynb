{
 "cells": [
  {
   "cell_type": "code",
   "execution_count": 46,
   "metadata": {},
   "outputs": [],
   "source": [
    "from gensim.models import Word2Vec\n"
   ]
  },
  {
   "cell_type": "code",
   "execution_count": 47,
   "metadata": {},
   "outputs": [],
   "source": [
    "CORPUS_FILE = \"../corpus/corpus_phrases.txt\""
   ]
  },
  {
   "cell_type": "code",
   "execution_count": 48,
   "metadata": {},
   "outputs": [],
   "source": [
    "class Corpus:\n",
    "\n",
    "    def __init__(self, corpus_file):\n",
    "        self.corpus_file = corpus_file\n",
    "\n",
    "    def __iter__(self):\n",
    "        with open(self.corpus_file, \"r\") as f:\n",
    "            for line in f:\n",
    "                yield line.strip().split()\n",
    "\n",
    "    def count_tokens(self):\n",
    "        count = 0\n",
    "        with open(self.corpus_file, \"r\") as f:\n",
    "            for line in f:\n",
    "                count += len(line.strip().split())\n",
    "        return count"
   ]
  },
  {
   "cell_type": "code",
   "execution_count": 64,
   "metadata": {},
   "outputs": [],
   "source": [
    "model = Word2Vec(Corpus(CORPUS_FILE), size=150, window=15, min_count=1, workers=4)"
   ]
  },
  {
   "cell_type": "code",
   "execution_count": 66,
   "metadata": {},
   "outputs": [
    {
     "data": {
      "text/plain": [
       "[('外', 0.9997098445892334),\n",
       " ('シンポジウム', 0.9996832609176636),\n",
       " ('権力', 0.9996379613876343),\n",
       " ('独裁', 0.999608039855957),\n",
       " ('最大', 0.9995945692062378),\n",
       " ('を中心', 0.9995808601379395),\n",
       " ('日米', 0.9994758367538452),\n",
       " ('中立', 0.9994564652442932),\n",
       " ('実現', 0.9994138479232788),\n",
       " ('検討', 0.9993963241577148),\n",
       " ('回復', 0.9993951916694641),\n",
       " ('国', 0.9993700385093689),\n",
       " ('対談', 0.9993549585342407),\n",
       " ('可能か', 0.9993456602096558),\n",
       " ('今日', 0.9993235468864441),\n",
       " ('原因', 0.9993183016777039),\n",
       " ('成熟', 0.9992881417274475),\n",
       " ('克服', 0.9992510676383972),\n",
       " ('苦悩', 0.999224066734314),\n",
       " ('公共', 0.9992207288742065),\n",
       " ('ポストモダン', 0.9992069602012634),\n",
       " ('印度', 0.9991817474365234),\n",
       " ('民主化', 0.9991710186004639),\n",
       " ('を生む', 0.9991577863693237),\n",
       " ('社会党', 0.9991545677185059),\n",
       " ('未来', 0.9991495013237),\n",
       " ('内閣', 0.9991452097892761),\n",
       " ('解体', 0.9991374015808105),\n",
       " ('西欧', 0.9991248846054077),\n",
       " ('政治家', 0.9991207122802734)]"
      ]
     },
     "execution_count": 66,
     "metadata": {},
     "output_type": "execute_result"
    }
   ],
   "source": [
    "model.most_similar(\"消費\", topn=30)"
   ]
  },
  {
   "cell_type": "code",
   "execution_count": null,
   "metadata": {},
   "outputs": [],
   "source": []
  }
 ],
 "metadata": {
  "kernelspec": {
   "display_name": "Python 3",
   "language": "python",
   "name": "python3"
  },
  "language_info": {
   "codemirror_mode": {
    "name": "ipython",
    "version": 3
   },
   "file_extension": ".py",
   "mimetype": "text/x-python",
   "name": "python",
   "nbconvert_exporter": "python",
   "pygments_lexer": "ipython3",
   "version": "3.6.5"
  }
 },
 "nbformat": 4,
 "nbformat_minor": 2
}
