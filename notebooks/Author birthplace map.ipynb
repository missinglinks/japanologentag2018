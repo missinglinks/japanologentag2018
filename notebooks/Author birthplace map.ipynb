{
 "cells": [
  {
   "cell_type": "code",
   "execution_count": 1,
   "metadata": {},
   "outputs": [],
   "source": [
    "from magazine import Magazine"
   ]
  },
  {
   "cell_type": "code",
   "execution_count": 2,
   "metadata": {},
   "outputs": [],
   "source": [
    "ck = Magazine()"
   ]
  },
  {
   "cell_type": "code",
   "execution_count": 5,
   "metadata": {},
   "outputs": [
    {
     "name": "stdout",
     "output_type": "stream",
     "text": [
      "Anzahl Personen im Datenset: 247\n"
     ]
    }
   ],
   "source": [
    "authors = ck.get_authors(1970, 1980, threshold=5)"
   ]
  },
  {
   "cell_type": "code",
   "execution_count": 6,
   "metadata": {
    "scrolled": false
   },
   "outputs": [
    {
     "name": "stderr",
     "output_type": "stream",
     "text": [
      "100%|██████████| 247/247 [00:39<00:00,  6.24it/s]"
     ]
    },
    {
     "name": "stdout",
     "output_type": "stream",
     "text": [
      "[('Tokyo', 58), ('Ōsaka Prefecture', 5), ('Ōsaka', 5), ('Tokyo City', 5), ('Hyōgo Prefecture', 4), ('Hokkaidō', 4), ('Yokohama', 3), ('Kōbe', 3), ('Kyoto', 3), ('Nagoya', 3), ('Kanagawa Prefecture', 2), ('Suginami-ku', 2), ('Dalian', 2), ('Katsushika-ku', 2), ('Niigata', 2), ('Kyōto Prefecture', 1), ('Okayama', 1), ('Mitsu District', 1), ('Kamakura', 1), ('Yotsuya', 1)]\n"
     ]
    },
    {
     "name": "stderr",
     "output_type": "stream",
     "text": [
      "\n"
     ]
    },
    {
     "data": {
      "application/vnd.jupyter.widget-view+json": {
       "model_id": "1fb08fe7c05f404595f900fe07377f91",
       "version_major": 2,
       "version_minor": 0
      },
      "text/html": [
       "<p>Failed to display Jupyter Widget of type <code>Map</code>.</p>\n",
       "<p>\n",
       "  If you're reading this message in the Jupyter Notebook or JupyterLab Notebook, it may mean\n",
       "  that the widgets JavaScript is still loading. If this message persists, it\n",
       "  likely means that the widgets JavaScript library is either not installed or\n",
       "  not enabled. See the <a href=\"https://ipywidgets.readthedocs.io/en/stable/user_install.html\">Jupyter\n",
       "  Widgets Documentation</a> for setup instructions.\n",
       "</p>\n",
       "<p>\n",
       "  If you're reading this message in another frontend (for example, a static\n",
       "  rendering on GitHub or <a href=\"https://nbviewer.jupyter.org/\">NBViewer</a>),\n",
       "  it may mean that your frontend doesn't currently support widgets.\n",
       "</p>\n"
      ],
      "text/plain": [
       "Map(basemap={'url': 'https://{s}.tile.openstreetmap.org/{z}/{x}/{y}.png', 'max_zoom': 19, 'attribution': 'Map data (c) <a href=\"https://openstreetmap.org\">OpenStreetMap</a> contributors'}, center=[37, 138], layers=(TileLayer(base=True, max_zoom=19, min_zoom=1, options=['attribution', 'detect_retina', 'max_zoom', 'min_zoom', 'tile_size']), Heatmap(gradient={0.4: 'blue', 0.6: 'cyan', 0.7: 'lime', 0.8: 'yellow', 1.0: 'red'}, locations=[[35.021666666, 135.755611111, 500], [35.68, 139.77, 500], [34.65, 133.916666666, 500], [35.315833333, 139.550277777, 500], [35.68, 139.77, 500], [38.316666666, 127.233333333, 500], [35.605, 140.123333333, 500], [35.6, 140.1, 500], [34.690816666, 135.183077777, 500], [35.433333333, 139.633333333, 500], [35.68, 139.77, 500], [33.83916, 132.76574, 500], [43.0, 142.0, 500], [36.238055555, 137.971944444, 500], [34.686388888, 135.52, 500], [35.683889, 139.774444, 500], [35.447508333, 139.642344444, 500], [32.783333333, 129.866666666, 500], [35.68, 139.77, 500], [40.205527777, 140.231833333, 500], [35.68, 139.77, 500], [36.340277777, 139.449722222, 500], [35.68, 139.77, 500], [35.71472, 139.79673, 500], [35.4875, 137.500555555, 500], [34.693611111, 135.501944444, 500], [34.693611111, 135.501944444, 500], [35.654646, 139.737082, 500], [35.34926, 139.47666, 500], [34.993333333, 134.969444444, 500], [35.683333333, 139.616666666, 500], [34.693611111, 135.501944444, 500], [35.67666667, 139.76472222, 500], [43.0, 142.0, 500], [35.68, 139.77, 500], [35.433333333, 139.633333333, 500], [35.65, 136.066666666, 500], [38.913055555, 121.61, 500], [35.68, 139.77, 500], [35.68, 139.77, 500], [35.68, 139.77, 500], [35.68, 139.77, 500], [34.693611111, 135.501944444, 500], [35.68, 139.77, 500], [35.68, 139.77, 500], [35.68, 139.77, 500], [35.68, 139.77, 500], [35.68, 139.77, 500], [23.766666666, 121.0, 500], [35.0, 105.0, 500], [35.68, 139.77, 500], [35.447508333, 139.642344444, 500], [37.916666666, 140.116666666, 500], [34.6913, 135.183, 500], [34.7, 136.5, 500], [35.68, 139.77, 500], [34.686388888, 135.52, 500], [35.68, 139.77, 500], [35.658069444, 139.7516, 500], [35.67666667, 139.76472222, 500], [35.433333333, 139.633333333, 500], [43.0, 142.0, 500], [35.68, 139.77, 500], [43.82278, 144.10444, 500], [35.68, 139.77, 500], [35.011666666, 135.768055555, 500], [35.68, 139.77, 500], [35.116666666, 136.933333333, 500], [35.68, 139.77, 500], [38.914444444, 139.836388888, 500], [33.283333333, 130.166666666, 500], [35.011666666, 135.768055555, 500], [35.68, 139.77, 500], [43.190277777, 140.994166666, 500], [35.733333333, 139.85, 500], [35.68, 139.77, 500], [34.686388888, 135.52, 500], [35.67666667, 139.76472222, 500], [35.68, 139.77, 500], [35.68, 139.77, 500], [35.68, 139.77, 500], [35.68, 139.77, 500], [35.7, 139.716666666, 500], [35.683888888, 139.774444444, 500], [35.116666666, 136.933333333, 500], [35.68, 139.77, 500], [34.693611111, 135.501944444, 500], [35.68, 139.77, 500], [34.686388888, 135.52, 500], [39.683333333, 141.15, 500], [35.67666667, 139.76472222, 500], [35.983333333, 136.183333333, 500], [35.45, 133.766389, 500], [38.721666666, 139.821666666, 500], [47.892777777, 32.290277777, 500], [35.508333333, 139.6825, 500], [36.565555555, 128.725, 500], [36.366666666, 139.116666666, 500], [38.913055555, 121.61, 500], [35.683889, 139.774444, 500], [25.033333333, 121.633333333, 500], [35.68, 139.77, 500], [35.733333333, 139.85, 500], [35.68, 139.77, 500], [34.690816666, 135.183077777, 500], [32.8, 130.7, 500], [35.68, 139.77, 500], [35.68, 139.77, 500], [35.68, 139.77, 500], [45.0, 125.0, 500], [37.916111111, 139.019722222, 500], [35.68, 139.77, 500], [35.011666666, 135.768055555, 500], [35.68, 139.77, 500], [35.68, 139.77, 500], [35.68, 139.77, 500], [35.68, 139.77, 500], [35.68, 139.77, 500], [35.68, 139.77, 500], [34.233333333, 135.166666666, 500], [34.05, 135.35, 500], [36.302777777, 137.899722222, 500], [34.166944444, 132.219722222, 500], [34.690816666, 135.183077777, 500], [34.078888888, 134.238333333, 500], [35.68, 139.77, 500], [35.68, 139.77, 500], [35.68, 139.77, 500], [34.965833333, 139.101944444, 500], [35.68, 139.77, 500], [35.274444444, 136.259722222, 500], [35.68, 139.77, 500], [35.68, 139.77, 500], [35.683889, 139.774444, 500], [43.0, 142.0, 500], [35.68, 139.77, 500], [35.68, 139.77, 500], [35.68, 139.77, 500], [35.67666667, 139.76472222, 500], [35.733333333, 139.783333333, 500], [34.690816666, 135.183077777, 500], [34.7, 133.85, 500], [34.6913, 135.183, 500], [36.039166666, 138.114166666, 500], [35.6, 139.733333333, 500], [35.68, 139.77, 500], [37.916111111, 139.019722222, 500], [38.004444444, 140.045833333, 500], [34.966666666, 136.616666666, 500], [33.590277777, 130.401944444, 500], [35.68, 139.77, 500], [34.686388888, 135.52, 500], [33.85181, 130.85034, 500], [35.116666666, 136.933333333, 500], [35.683333333, 139.616666666, 500], [35.683889, 139.774444, 500], [34.6913, 135.183, 500]], options=['blur', 'gradient', 'max', 'max_zoom', 'min_opacity', 'radius'], radius=20.0)), layout=Layout(height='800px'), options=['attribution_control', 'basemap', 'bounce_at_zoom_limits', 'box_zoom', 'center', 'close_popup_on_click', 'double_click_zoom', 'dragging', 'inertia', 'inertia_deceleration', 'inertia_max_speed', 'interpolation', 'keyboard', 'keyboard_pan_offset', 'keyboard_zoom_offset', 'max_zoom', 'min_zoom', 'scroll_wheel_zoom', 'tap', 'tap_tolerance', 'touch_zoom', 'world_copy_jump', 'zoom', 'zoom_animation_threshold', 'zoom_control', 'zoom_start'], zoom=5)"
      ]
     },
     "metadata": {},
     "output_type": "display_data"
    }
   ],
   "source": [
    "authors.birth_map()"
   ]
  },
  {
   "cell_type": "code",
   "execution_count": null,
   "metadata": {},
   "outputs": [],
   "source": []
  },
  {
   "cell_type": "code",
   "execution_count": null,
   "metadata": {},
   "outputs": [],
   "source": []
  }
 ],
 "metadata": {
  "kernelspec": {
   "display_name": "Python 3",
   "language": "python",
   "name": "python3"
  },
  "language_info": {
   "codemirror_mode": {
    "name": "ipython",
    "version": 3
   },
   "file_extension": ".py",
   "mimetype": "text/x-python",
   "name": "python",
   "nbconvert_exporter": "python",
   "pygments_lexer": "ipython3",
   "version": "3.6.3"
  }
 },
 "nbformat": 4,
 "nbformat_minor": 2
}
