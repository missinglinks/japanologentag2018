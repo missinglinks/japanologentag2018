{
 "cells": [
  {
   "cell_type": "code",
   "execution_count": 6,
   "metadata": {},
   "outputs": [],
   "source": [
    "import json\n",
    "from tqdm import tqdm\n",
    "from rondan.personminer import get_person_data\n",
    "import time\n",
    "import os\n",
    "import pandas as pd\n",
    "import missingno as msno"
   ]
  },
  {
   "cell_type": "code",
   "execution_count": 2,
   "metadata": {},
   "outputs": [],
   "source": [
    "VIAF = \"../data/viaf.json\"\n",
    "OUT_DIR = \"../data/persons\"\n",
    "PERSON_DICT = \"../data/person_dict.json\""
   ]
  },
  {
   "cell_type": "code",
   "execution_count": 3,
   "metadata": {},
   "outputs": [],
   "source": [
    "viaf_list = json.load(open(VIAF))"
   ]
  },
  {
   "cell_type": "code",
   "execution_count": 4,
   "metadata": {},
   "outputs": [],
   "source": [
    "person_data = {}"
   ]
  },
  {
   "cell_type": "code",
   "execution_count": 6,
   "metadata": {},
   "outputs": [
    {
     "name": "stderr",
     "output_type": "stream",
     "text": [
      " 19%|█▉        | 1712/8826 [04:03<16:53,  7.02it/s] "
     ]
    },
    {
     "name": "stdout",
     "output_type": "stream",
     "text": [
      "111787986\n"
     ]
    },
    {
     "name": "stderr",
     "output_type": "stream",
     "text": [
      " 20%|█▉        | 1759/8826 [04:33<18:18,  6.43it/s]"
     ]
    },
    {
     "name": "stdout",
     "output_type": "stream",
     "text": [
      "56021746\n"
     ]
    },
    {
     "name": "stderr",
     "output_type": "stream",
     "text": [
      " 25%|██▌       | 2236/8826 [09:29<27:59,  3.92it/s]"
     ]
    },
    {
     "name": "stdout",
     "output_type": "stream",
     "text": [
      "70217583\n"
     ]
    },
    {
     "name": "stderr",
     "output_type": "stream",
     "text": [
      " 64%|██████▍   | 5632/8826 [44:02<24:58,  2.13it/s]"
     ]
    },
    {
     "name": "stdout",
     "output_type": "stream",
     "text": [
      "46390285\n"
     ]
    },
    {
     "name": "stderr",
     "output_type": "stream",
     "text": [
      " 82%|████████▏ | 7236/8826 [1:00:27<13:17,  1.99it/s]"
     ]
    },
    {
     "name": "stdout",
     "output_type": "stream",
     "text": [
      "261574087\n"
     ]
    },
    {
     "name": "stderr",
     "output_type": "stream",
     "text": [
      " 91%|█████████ | 8006/8826 [1:08:25<07:00,  1.95it/s]"
     ]
    },
    {
     "name": "stdout",
     "output_type": "stream",
     "text": [
      "69145969942032250268\n"
     ]
    },
    {
     "name": "stderr",
     "output_type": "stream",
     "text": [
      "100%|██████████| 8826/8826 [1:16:43<00:00,  1.92it/s]\n"
     ]
    }
   ],
   "source": [
    "for viaf in tqdm(viaf_list.values()):\n",
    "    filename = \"{}.json\".format(viaf[\"viaf_id\"])\n",
    "    filepath = os.path.join(OUT_DIR, filename)\n",
    "    if not os.path.exists(filepath):\n",
    "        data = get_person_data(viaf)\n",
    "        json.dump(data, open(filepath, \"w\"), indent=4)\n",
    "        \n",
    "        #time.sleep(1)"
   ]
  },
  {
   "cell_type": "code",
   "execution_count": null,
   "metadata": {},
   "outputs": [],
   "source": [
    "json.dump(person_data, open(OUT, \"w\"), indent=4)"
   ]
  },
  {
   "cell_type": "code",
   "execution_count": 9,
   "metadata": {},
   "outputs": [],
   "source": [
    "person_dict = {}"
   ]
  },
  {
   "cell_type": "code",
   "execution_count": 11,
   "metadata": {},
   "outputs": [],
   "source": [
    "for filename in os.listdir(OUT_DIR):\n",
    "    filepath = os.path.join(OUT_DIR, filename)\n",
    "    data = json.load(open(filepath))\n",
    "    person_dict[data[\"id\"]] = data"
   ]
  },
  {
   "cell_type": "code",
   "execution_count": 12,
   "metadata": {},
   "outputs": [
    {
     "data": {
      "text/plain": [
       "8825"
      ]
     },
     "execution_count": 12,
     "metadata": {},
     "output_type": "execute_result"
    }
   ],
   "source": [
    "len(person_dict)"
   ]
  },
  {
   "cell_type": "code",
   "execution_count": 13,
   "metadata": {},
   "outputs": [],
   "source": [
    "json.dump(person_dict, open(PERSON_DICT, \"w\"), indent=4)"
   ]
  },
  {
   "cell_type": "code",
   "execution_count": 16,
   "metadata": {},
   "outputs": [],
   "source": [
    "df = pd.DataFrame(person_dict)"
   ]
  },
  {
   "cell_type": "code",
   "execution_count": 18,
   "metadata": {},
   "outputs": [
    {
     "data": {
      "text/html": [
       "<div>\n",
       "<style scoped>\n",
       "    .dataframe tbody tr th:only-of-type {\n",
       "        vertical-align: middle;\n",
       "    }\n",
       "\n",
       "    .dataframe tbody tr th {\n",
       "        vertical-align: top;\n",
       "    }\n",
       "\n",
       "    .dataframe thead th {\n",
       "        text-align: right;\n",
       "    }\n",
       "</style>\n",
       "<table border=\"1\" class=\"dataframe\">\n",
       "  <thead>\n",
       "    <tr style=\"text-align: right;\">\n",
       "      <th></th>\n",
       "      <th>10000364</th>\n",
       "      <th>100145857827323020164</th>\n",
       "      <th>100242985</th>\n",
       "      <th>100246466</th>\n",
       "      <th>100267988</th>\n",
       "      <th>100276689</th>\n",
       "      <th>100284824</th>\n",
       "      <th>100307974</th>\n",
       "      <th>10038986</th>\n",
       "      <th>100390592</th>\n",
       "      <th>...</th>\n",
       "      <th>99036646</th>\n",
       "      <th>9906407</th>\n",
       "      <th>9910927</th>\n",
       "      <th>9914129</th>\n",
       "      <th>99276871</th>\n",
       "      <th>99342932</th>\n",
       "      <th>9941260</th>\n",
       "      <th>9966123</th>\n",
       "      <th>9974124</th>\n",
       "      <th>99876969</th>\n",
       "    </tr>\n",
       "  </thead>\n",
       "  <tbody>\n",
       "    <tr>\n",
       "      <th>id</th>\n",
       "      <td>10000364</td>\n",
       "      <td>100145857827323020164</td>\n",
       "      <td>100242985</td>\n",
       "      <td>100246466</td>\n",
       "      <td>100267988</td>\n",
       "      <td>100276689</td>\n",
       "      <td>100284824</td>\n",
       "      <td>100307974</td>\n",
       "      <td>10038986</td>\n",
       "      <td>100390592</td>\n",
       "      <td>...</td>\n",
       "      <td>99036646</td>\n",
       "      <td>9906407</td>\n",
       "      <td>9910927</td>\n",
       "      <td>9914129</td>\n",
       "      <td>99276871</td>\n",
       "      <td>99342932</td>\n",
       "      <td>9941260</td>\n",
       "      <td>9966123</td>\n",
       "      <td>9974124</td>\n",
       "      <td>99876969</td>\n",
       "    </tr>\n",
       "    <tr>\n",
       "      <th>ids</th>\n",
       "      <td>{'viaf': '10000364', 'ndl': '00037399', 'wkp':...</td>\n",
       "      <td>{'viaf': '100145857827323020164', 'ndl': '0000...</td>\n",
       "      <td>{'viaf': '100242985', 'ndl': '00470275', 'wkp'...</td>\n",
       "      <td>{'viaf': '100246466', 'ndl': '00625558', 'wkp'...</td>\n",
       "      <td>{'viaf': '100267988', 'ndl': '00475361', 'wkp'...</td>\n",
       "      <td>{'viaf': '100276689', 'ndl': None, 'wkp': 'Q31...</td>\n",
       "      <td>{'viaf': '100284824', 'ndl': '00559273', 'wkp'...</td>\n",
       "      <td>{'viaf': '100307974', 'ndl': '00076454', 'wkp'...</td>\n",
       "      <td>{'viaf': '10038986', 'ndl': '00092023', 'wkp':...</td>\n",
       "      <td>{'viaf': '100390592', 'ndl': '00453332', 'wkp'...</td>\n",
       "      <td>...</td>\n",
       "      <td>{'viaf': '99036646', 'ndl': None, 'wkp': None,...</td>\n",
       "      <td>{'viaf': '9906407', 'ndl': '00317921', 'wkp': ...</td>\n",
       "      <td>{'viaf': '9910927', 'ndl': '00444070', 'wkp': ...</td>\n",
       "      <td>{'viaf': '9914129', 'ndl': '00472241', 'wkp': ...</td>\n",
       "      <td>{'viaf': '99276871', 'ndl': '00320010', 'wkp':...</td>\n",
       "      <td>{'viaf': '99342932', 'ndl': None, 'wkp': 'Q305...</td>\n",
       "      <td>{'viaf': '9941260', 'ndl': None, 'wkp': 'Q7613...</td>\n",
       "      <td>{'viaf': '9966123', 'ndl': '00096690', 'wkp': ...</td>\n",
       "      <td>{'viaf': '9974124', 'ndl': '00109878', 'wkp': ...</td>\n",
       "      <td>{'viaf': '99876969', 'ndl': '00453344', 'wkp':...</td>\n",
       "    </tr>\n",
       "    <tr>\n",
       "      <th>kotobank</th>\n",
       "      <td>NaN</td>\n",
       "      <td>{'name': '赤松, 克麿', 'articles': [], 'real_name'...</td>\n",
       "      <td>NaN</td>\n",
       "      <td>NaN</td>\n",
       "      <td>NaN</td>\n",
       "      <td>NaN</td>\n",
       "      <td>NaN</td>\n",
       "      <td>NaN</td>\n",
       "      <td>{'name': 'Yamada, Kōsaku,', 'articles': [], '...</td>\n",
       "      <td>NaN</td>\n",
       "      <td>...</td>\n",
       "      <td>NaN</td>\n",
       "      <td>NaN</td>\n",
       "      <td>NaN</td>\n",
       "      <td>NaN</td>\n",
       "      <td>{'name': 'Jiang, Jieshi', 'articles': [], 'rea...</td>\n",
       "      <td>NaN</td>\n",
       "      <td>NaN</td>\n",
       "      <td>{'name': 'Yosano, Akiko,', 'articles': [], 're...</td>\n",
       "      <td>NaN</td>\n",
       "      <td>NaN</td>\n",
       "    </tr>\n",
       "    <tr>\n",
       "      <th>viaf</th>\n",
       "      <td>{'viaf_id': '10000364', 'names': ['国木田, 独歩', '...</td>\n",
       "      <td>{'viaf_id': '100145857827323020164', 'names': ...</td>\n",
       "      <td>{'viaf_id': '100242985', 'names': ['Lee, Spike...</td>\n",
       "      <td>{'viaf_id': '100246466', 'names': ['천두슈', 'Che...</td>\n",
       "      <td>{'viaf_id': '100267988', 'names': ['Sony Labou...</td>\n",
       "      <td>{'viaf_id': '100276689', 'names': ['Jackson, J...</td>\n",
       "      <td>{'viaf_id': '100284824', 'names': ['Kelly, Pau...</td>\n",
       "      <td>{'viaf_id': '100307974', 'names': ['Shōno, Jun...</td>\n",
       "      <td>{'viaf_id': '10038986', 'names': ['Yamada, Kō...</td>\n",
       "      <td>{'viaf_id': '100390592', 'names': ['Price, W. ...</td>\n",
       "      <td>...</td>\n",
       "      <td>{'viaf_id': '99036646', 'names': ['Treles,', '...</td>\n",
       "      <td>{'viaf_id': '9906407', 'names': ['張戎,', 'Jung ...</td>\n",
       "      <td>{'viaf_id': '9910927', 'names': ['eng', 'Hunti...</td>\n",
       "      <td>{'viaf_id': '9914129', 'names': ['Newhouse, Jo...</td>\n",
       "      <td>{'viaf_id': '99276871', 'names': ['Jiang, Jies...</td>\n",
       "      <td>{'viaf_id': '99342932', 'names': ['Eban, Abba,...</td>\n",
       "      <td>{'viaf_id': '9941260', 'names': ['Adams, Gerry...</td>\n",
       "      <td>{'viaf_id': '9966123', 'names': ['Yosano, Akik...</td>\n",
       "      <td>{'viaf_id': '9974124', 'names': ['Yuasa, Shin-...</td>\n",
       "      <td>{'viaf_id': '99876969', 'names': ['Пригожин, И...</td>\n",
       "    </tr>\n",
       "    <tr>\n",
       "      <th>wiki</th>\n",
       "      <td>{'gender': 'male', 'image': 'http://commons.wi...</td>\n",
       "      <td>{'gender': 'male', 'image': 'http://commons.wi...</td>\n",
       "      <td>{'gender': 'male', 'image': 'http://commons.wi...</td>\n",
       "      <td>{'gender': 'male', 'image': 'http://commons.wi...</td>\n",
       "      <td>{'gender': 'male', 'image': None, 'place_of_bi...</td>\n",
       "      <td>{'gender': 'male', 'image': 'http://commons.wi...</td>\n",
       "      <td>{'gender': 'male', 'image': None, 'place_of_bi...</td>\n",
       "      <td>{'gender': 'male', 'image': 'http://commons.wi...</td>\n",
       "      <td>{'gender': 'male', 'image': 'http://commons.wi...</td>\n",
       "      <td>{'gender': 'male', 'image': None, 'place_of_bi...</td>\n",
       "      <td>...</td>\n",
       "      <td>{'gender': None, 'image': None, 'place_of_birt...</td>\n",
       "      <td>{'gender': 'female', 'image': 'http://commons....</td>\n",
       "      <td>{'gender': 'male', 'image': 'http://commons.wi...</td>\n",
       "      <td>{'gender': 'male', 'image': None, 'place_of_bi...</td>\n",
       "      <td>{'gender': 'male', 'image': 'http://commons.wi...</td>\n",
       "      <td>{'gender': 'male', 'image': 'http://commons.wi...</td>\n",
       "      <td>{'gender': 'male', 'image': 'http://commons.wi...</td>\n",
       "      <td>{'gender': 'female', 'image': 'http://commons....</td>\n",
       "      <td>{'gender': None, 'image': None, 'place_of_birt...</td>\n",
       "      <td>{'gender': 'male', 'image': 'http://commons.wi...</td>\n",
       "    </tr>\n",
       "  </tbody>\n",
       "</table>\n",
       "<p>5 rows × 8825 columns</p>\n",
       "</div>"
      ],
      "text/plain": [
       "                                                   10000364  \\\n",
       "id                                                 10000364   \n",
       "ids       {'viaf': '10000364', 'ndl': '00037399', 'wkp':...   \n",
       "kotobank                                                NaN   \n",
       "viaf      {'viaf_id': '10000364', 'names': ['国木田, 独歩', '...   \n",
       "wiki      {'gender': 'male', 'image': 'http://commons.wi...   \n",
       "\n",
       "                                      100145857827323020164  \\\n",
       "id                                    100145857827323020164   \n",
       "ids       {'viaf': '100145857827323020164', 'ndl': '0000...   \n",
       "kotobank  {'name': '赤松, 克麿', 'articles': [], 'real_name'...   \n",
       "viaf      {'viaf_id': '100145857827323020164', 'names': ...   \n",
       "wiki      {'gender': 'male', 'image': 'http://commons.wi...   \n",
       "\n",
       "                                                  100242985  \\\n",
       "id                                                100242985   \n",
       "ids       {'viaf': '100242985', 'ndl': '00470275', 'wkp'...   \n",
       "kotobank                                                NaN   \n",
       "viaf      {'viaf_id': '100242985', 'names': ['Lee, Spike...   \n",
       "wiki      {'gender': 'male', 'image': 'http://commons.wi...   \n",
       "\n",
       "                                                  100246466  \\\n",
       "id                                                100246466   \n",
       "ids       {'viaf': '100246466', 'ndl': '00625558', 'wkp'...   \n",
       "kotobank                                                NaN   \n",
       "viaf      {'viaf_id': '100246466', 'names': ['천두슈', 'Che...   \n",
       "wiki      {'gender': 'male', 'image': 'http://commons.wi...   \n",
       "\n",
       "                                                  100267988  \\\n",
       "id                                                100267988   \n",
       "ids       {'viaf': '100267988', 'ndl': '00475361', 'wkp'...   \n",
       "kotobank                                                NaN   \n",
       "viaf      {'viaf_id': '100267988', 'names': ['Sony Labou...   \n",
       "wiki      {'gender': 'male', 'image': None, 'place_of_bi...   \n",
       "\n",
       "                                                  100276689  \\\n",
       "id                                                100276689   \n",
       "ids       {'viaf': '100276689', 'ndl': None, 'wkp': 'Q31...   \n",
       "kotobank                                                NaN   \n",
       "viaf      {'viaf_id': '100276689', 'names': ['Jackson, J...   \n",
       "wiki      {'gender': 'male', 'image': 'http://commons.wi...   \n",
       "\n",
       "                                                  100284824  \\\n",
       "id                                                100284824   \n",
       "ids       {'viaf': '100284824', 'ndl': '00559273', 'wkp'...   \n",
       "kotobank                                                NaN   \n",
       "viaf      {'viaf_id': '100284824', 'names': ['Kelly, Pau...   \n",
       "wiki      {'gender': 'male', 'image': None, 'place_of_bi...   \n",
       "\n",
       "                                                  100307974  \\\n",
       "id                                                100307974   \n",
       "ids       {'viaf': '100307974', 'ndl': '00076454', 'wkp'...   \n",
       "kotobank                                                NaN   \n",
       "viaf      {'viaf_id': '100307974', 'names': ['Shōno, Jun...   \n",
       "wiki      {'gender': 'male', 'image': 'http://commons.wi...   \n",
       "\n",
       "                                                   10038986  \\\n",
       "id                                                 10038986   \n",
       "ids       {'viaf': '10038986', 'ndl': '00092023', 'wkp':...   \n",
       "kotobank  {'name': 'Yamada, Kōsaku,', 'articles': [], '...   \n",
       "viaf      {'viaf_id': '10038986', 'names': ['Yamada, Kō...   \n",
       "wiki      {'gender': 'male', 'image': 'http://commons.wi...   \n",
       "\n",
       "                                                  100390592  \\\n",
       "id                                                100390592   \n",
       "ids       {'viaf': '100390592', 'ndl': '00453332', 'wkp'...   \n",
       "kotobank                                                NaN   \n",
       "viaf      {'viaf_id': '100390592', 'names': ['Price, W. ...   \n",
       "wiki      {'gender': 'male', 'image': None, 'place_of_bi...   \n",
       "\n",
       "                                ...                          \\\n",
       "id                              ...                           \n",
       "ids                             ...                           \n",
       "kotobank                        ...                           \n",
       "viaf                            ...                           \n",
       "wiki                            ...                           \n",
       "\n",
       "                                                   99036646  \\\n",
       "id                                                 99036646   \n",
       "ids       {'viaf': '99036646', 'ndl': None, 'wkp': None,...   \n",
       "kotobank                                                NaN   \n",
       "viaf      {'viaf_id': '99036646', 'names': ['Treles,', '...   \n",
       "wiki      {'gender': None, 'image': None, 'place_of_birt...   \n",
       "\n",
       "                                                    9906407  \\\n",
       "id                                                  9906407   \n",
       "ids       {'viaf': '9906407', 'ndl': '00317921', 'wkp': ...   \n",
       "kotobank                                                NaN   \n",
       "viaf      {'viaf_id': '9906407', 'names': ['張戎,', 'Jung ...   \n",
       "wiki      {'gender': 'female', 'image': 'http://commons....   \n",
       "\n",
       "                                                    9910927  \\\n",
       "id                                                  9910927   \n",
       "ids       {'viaf': '9910927', 'ndl': '00444070', 'wkp': ...   \n",
       "kotobank                                                NaN   \n",
       "viaf      {'viaf_id': '9910927', 'names': ['eng', 'Hunti...   \n",
       "wiki      {'gender': 'male', 'image': 'http://commons.wi...   \n",
       "\n",
       "                                                    9914129  \\\n",
       "id                                                  9914129   \n",
       "ids       {'viaf': '9914129', 'ndl': '00472241', 'wkp': ...   \n",
       "kotobank                                                NaN   \n",
       "viaf      {'viaf_id': '9914129', 'names': ['Newhouse, Jo...   \n",
       "wiki      {'gender': 'male', 'image': None, 'place_of_bi...   \n",
       "\n",
       "                                                   99276871  \\\n",
       "id                                                 99276871   \n",
       "ids       {'viaf': '99276871', 'ndl': '00320010', 'wkp':...   \n",
       "kotobank  {'name': 'Jiang, Jieshi', 'articles': [], 'rea...   \n",
       "viaf      {'viaf_id': '99276871', 'names': ['Jiang, Jies...   \n",
       "wiki      {'gender': 'male', 'image': 'http://commons.wi...   \n",
       "\n",
       "                                                   99342932  \\\n",
       "id                                                 99342932   \n",
       "ids       {'viaf': '99342932', 'ndl': None, 'wkp': 'Q305...   \n",
       "kotobank                                                NaN   \n",
       "viaf      {'viaf_id': '99342932', 'names': ['Eban, Abba,...   \n",
       "wiki      {'gender': 'male', 'image': 'http://commons.wi...   \n",
       "\n",
       "                                                    9941260  \\\n",
       "id                                                  9941260   \n",
       "ids       {'viaf': '9941260', 'ndl': None, 'wkp': 'Q7613...   \n",
       "kotobank                                                NaN   \n",
       "viaf      {'viaf_id': '9941260', 'names': ['Adams, Gerry...   \n",
       "wiki      {'gender': 'male', 'image': 'http://commons.wi...   \n",
       "\n",
       "                                                    9966123  \\\n",
       "id                                                  9966123   \n",
       "ids       {'viaf': '9966123', 'ndl': '00096690', 'wkp': ...   \n",
       "kotobank  {'name': 'Yosano, Akiko,', 'articles': [], 're...   \n",
       "viaf      {'viaf_id': '9966123', 'names': ['Yosano, Akik...   \n",
       "wiki      {'gender': 'female', 'image': 'http://commons....   \n",
       "\n",
       "                                                    9974124  \\\n",
       "id                                                  9974124   \n",
       "ids       {'viaf': '9974124', 'ndl': '00109878', 'wkp': ...   \n",
       "kotobank                                                NaN   \n",
       "viaf      {'viaf_id': '9974124', 'names': ['Yuasa, Shin-...   \n",
       "wiki      {'gender': None, 'image': None, 'place_of_birt...   \n",
       "\n",
       "                                                   99876969  \n",
       "id                                                 99876969  \n",
       "ids       {'viaf': '99876969', 'ndl': '00453344', 'wkp':...  \n",
       "kotobank                                                NaN  \n",
       "viaf      {'viaf_id': '99876969', 'names': ['Пригожин, И...  \n",
       "wiki      {'gender': 'male', 'image': 'http://commons.wi...  \n",
       "\n",
       "[5 rows x 8825 columns]"
      ]
     },
     "execution_count": 18,
     "metadata": {},
     "output_type": "execute_result"
    }
   ],
   "source": [
    "df"
   ]
  },
  {
   "cell_type": "code",
   "execution_count": 23,
   "metadata": {},
   "outputs": [
    {
     "data": {
      "text/plain": [
       "{'id': '40174844',\n",
       " 'ids': {'ndl': '00047470',\n",
       "  'nii': 'DA01323468',\n",
       "  'viaf': '40174844',\n",
       "  'wikipedia': ['https://ar.wikipedia.org/wiki/أكيو_موريتا',\n",
       "   'https://bg.wikipedia.org/wiki/Акио_Морита',\n",
       "   'https://ca.wikipedia.org/wiki/Akio_Morita',\n",
       "   'https://de.wikipedia.org/wiki/Morita_Akio',\n",
       "   'https://el.wikipedia.org/wiki/Άκιο_Μορίτα',\n",
       "   'https://en.wikipedia.org/wiki/Akio_Morita',\n",
       "   'https://es.wikipedia.org/wiki/Akio_Morita',\n",
       "   'https://eu.wikipedia.org/wiki/Akio_Morita',\n",
       "   'https://fa.wikipedia.org/wiki/آکیو_موریتا',\n",
       "   'https://fi.wikipedia.org/wiki/Akio_Morita',\n",
       "   'https://fr.wikipedia.org/wiki/Akio_Morita',\n",
       "   'https://ga.wikipedia.org/wiki/Morita_Akio',\n",
       "   'https://id.wikipedia.org/wiki/Akio_Morita',\n",
       "   'https://it.wikipedia.org/wiki/Akio_Morita',\n",
       "   'https://ja.wikipedia.org/wiki/盛田昭夫',\n",
       "   'https://jv.wikipedia.org/wiki/Akio_Morita',\n",
       "   'https://kk.wikipedia.org/wiki/Акио_Морита',\n",
       "   'https://ko.wikipedia.org/wiki/모리타_아키오',\n",
       "   'https://ml.wikipedia.org/wiki/അകിയോ_മോറിത',\n",
       "   'https://pl.wikipedia.org/wiki/Akio_Morita',\n",
       "   'https://pnb.wikipedia.org/wiki/اکیو_موریتا',\n",
       "   'https://pt.wikipedia.org/wiki/Akio_Morita',\n",
       "   'https://ro.wikipedia.org/wiki/Akio_Morita',\n",
       "   'https://ru.wikipedia.org/wiki/Морита,_Акио',\n",
       "   'https://sr.wikipedia.org/wiki/Акио_Морита',\n",
       "   'https://sv.wikipedia.org/wiki/Akio_Morita',\n",
       "   'https://ta.wikipedia.org/wiki/அக்கியோ_மொறிட்டா',\n",
       "   'https://th.wikipedia.org/wiki/อากิโอะ_โมริตะ',\n",
       "   'https://uk.wikipedia.org/wiki/Акіо_Моріта',\n",
       "   'https://ur.wikipedia.org/wiki/اکیو_موریتا',\n",
       "   'https://vi.wikipedia.org/wiki/Morita_Akio',\n",
       "   'https://war.wikipedia.org/wiki/Akio_Morita',\n",
       "   'https://zh.wikipedia.org/wiki/盛田昭夫'],\n",
       "  'wkp': 'Q310845'},\n",
       " 'viaf': {'birth_date': '1921-12-06',\n",
       "  'death_date': '1999-10-03',\n",
       "  'match_ratio': 1.0,\n",
       "  'names': ['盛田 昭夫',\n",
       "   '모리타 아키오',\n",
       "   'Morita,',\n",
       "   'ba0yba0b',\n",
       "   '盛田, 昭夫,',\n",
       "   'Morita, Akio,',\n",
       "   '盛田, 昭夫',\n",
       "   'Morita, Akio',\n",
       "   'Морита'],\n",
       "  'viaf_id': '40174844'},\n",
       " 'wiki': {'country': {'label': 'Japan', 'wkp': 'Q17'},\n",
       "  'education': ['Osaka University'],\n",
       "  'gender': 'male',\n",
       "  'image': 'http://commons.wikimedia.org/wiki/Special:FilePath/Morita%20Akio.jpg',\n",
       "  'place_of_birth': {'label': 'Tokoname', 'wkp': 'Q209683'}}}"
      ]
     },
     "execution_count": 23,
     "metadata": {},
     "output_type": "execute_result"
    }
   ],
   "source": [
    "list(person_dict.values())[390]"
   ]
  },
  {
   "cell_type": "code",
   "execution_count": null,
   "metadata": {},
   "outputs": [],
   "source": []
  }
 ],
 "metadata": {
  "kernelspec": {
   "display_name": "Python 3",
   "language": "python",
   "name": "python3"
  },
  "language_info": {
   "codemirror_mode": {
    "name": "ipython",
    "version": 3
   },
   "file_extension": ".py",
   "mimetype": "text/x-python",
   "name": "python",
   "nbconvert_exporter": "python",
   "pygments_lexer": "ipython3",
   "version": "3.6.3"
  }
 },
 "nbformat": 4,
 "nbformat_minor": 2
}
