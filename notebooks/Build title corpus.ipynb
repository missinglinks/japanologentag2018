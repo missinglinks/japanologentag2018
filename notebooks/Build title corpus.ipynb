{
 "cells": [
  {
   "cell_type": "code",
   "execution_count": 75,
   "metadata": {},
   "outputs": [],
   "source": [
    "import json\n",
    "from kyujipy import KyujitaiConverter\n",
    "from collections import defaultdict"
   ]
  },
  {
   "cell_type": "code",
   "execution_count": 76,
   "metadata": {},
   "outputs": [],
   "source": [
    "DATA_FILE = \"../data/ck.json\"\n",
    "OUT_FILE = \"../corpus/title_corpus_{}_{}.txt\""
   ]
  },
  {
   "cell_type": "code",
   "execution_count": 77,
   "metadata": {},
   "outputs": [],
   "source": [
    "data = json.load(open(DATA_FILE))"
   ]
  },
  {
   "cell_type": "code",
   "execution_count": 78,
   "metadata": {},
   "outputs": [],
   "source": [
    "converter = KyujitaiConverter()\n",
    "def to_shinjitai(s):\n",
    "    s = s.replace(\"｟\", \"\").replace(\"｠\", \"\").replace(\"畵\", \"\")\n",
    "    return converter.kyujitai_to_shinjitai(s)"
   ]
  },
  {
   "cell_type": "code",
   "execution_count": 79,
   "metadata": {},
   "outputs": [],
   "source": [
    "def get_corpus(year_from, year_to):\n",
    "    corpus = defaultdict(list)\n",
    "    for issue in data[\"issues\"]:\n",
    "        year = int(issue[\"year\"])\n",
    "        if year >= year_from and year < year_to:\n",
    "            issue_title = issue[\"title\"]\n",
    "            for article in issue[\"toc\"]:\n",
    "                corpus[issue_title].append(to_shinjitai(article[\"title\"]))\n",
    "    return corpus"
   ]
  },
  {
   "cell_type": "code",
   "execution_count": null,
   "metadata": {},
   "outputs": [],
   "source": []
  },
  {
   "cell_type": "code",
   "execution_count": 80,
   "metadata": {},
   "outputs": [],
   "source": [
    "def build_corpus(year_to, year_from):\n",
    "    corpus = get_corpus(year_to, year_from)\n",
    "    with open(OUT_FILE.format(year_to, year_from-1), \"w\", encoding=\"utf-8\") as f:\n",
    "        f.write(\"<h1>{}-{}</h1>\\n\".format(year_to, year_from-1))\n",
    "        for issue_title, articles in corpus.items():\n",
    "            f.write(\"<h2>{}</h2>\\n\".format(issue_title))\n",
    "            f.write(\"。\\n\".join(articles)+\"\\n\")\n",
    "        #print(issue_title)\n",
    "        #print(\"。 \".join(articles))\n",
    "        #break"
   ]
  },
  {
   "cell_type": "code",
   "execution_count": 81,
   "metadata": {},
   "outputs": [],
   "source": [
    "build_corpus(1920, 1945)"
   ]
  },
  {
   "cell_type": "code",
   "execution_count": 82,
   "metadata": {},
   "outputs": [],
   "source": [
    "build_corpus(1945, 1973)"
   ]
  },
  {
   "cell_type": "code",
   "execution_count": 83,
   "metadata": {},
   "outputs": [],
   "source": [
    "build_corpus(1973, 1990)"
   ]
  },
  {
   "cell_type": "code",
   "execution_count": 84,
   "metadata": {},
   "outputs": [],
   "source": [
    "build_corpus(1920, 2001)"
   ]
  },
  {
   "cell_type": "code",
   "execution_count": null,
   "metadata": {},
   "outputs": [],
   "source": []
  }
 ],
 "metadata": {
  "kernelspec": {
   "display_name": "Python 3",
   "language": "python",
   "name": "python3"
  },
  "language_info": {
   "codemirror_mode": {
    "name": "ipython",
    "version": 3
   },
   "file_extension": ".py",
   "mimetype": "text/x-python",
   "name": "python",
   "nbconvert_exporter": "python",
   "pygments_lexer": "ipython3",
   "version": "3.6.5"
  }
 },
 "nbformat": 4,
 "nbformat_minor": 2
}
